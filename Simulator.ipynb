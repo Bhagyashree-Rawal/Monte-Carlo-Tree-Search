{
 "cells": [
  {
   "cell_type": "markdown",
   "metadata": {},
   "source": [
    "## Code for simulator"
   ]
  },
  {
   "cell_type": "markdown",
   "metadata": {},
   "source": [
    "#### Following are the assumptions made while designing the simulator\n",
    "1. The yield of the plant X increases even if the plant Y, which helps plant X, was planted adjacent to X just one day before harvesting X. So it considers presence of helpful plants adjacent to the plant being harvested only during the time of harvesting the plants.\n",
    "2. As both the plants take 90 days to grow and we have to give a plan that gives maximum yield at the end of 91 days the best approach would be to plant all the plants on day 1 and so simulator is not considering any parameter to keep note of time.\n",
    "3. Thus, the total yield returned by the simulator is the yield that can be obtained at the end of the 90 days period if the given plan is followed and all the plants are planted on the first day."
   ]
  },
  {
   "cell_type": "code",
   "execution_count": 1,
   "metadata": {},
   "outputs": [],
   "source": [
    "def calculate_total_yield(M):\n",
    "    \"\"\"\n",
    "    input M : list of list of size n * n\n",
    "    output total_yield : total yield of crops in the field \n",
    "    \"\"\"\n",
    "    total_yield = 0\n",
    "    for i in range(len(M[0])):\n",
    "        for j in range(len(M[0])):\n",
    "            # Case 1 : if there is a corn crop in the i,j cell of the field\n",
    "            if M[i][j] == 'c':\n",
    "                # Following code checks the number of bean crops adjacent to the corn crop \n",
    "                adjacent_beans = 0\n",
    "                k = i-1\n",
    "                l = j-1\n",
    "                while k <= i+1:\n",
    "                    if k >= 0 and k < len(M[0]) :\n",
    "                        while l <= j+1:\n",
    "                            if l >= 0 and l < len(M[0]):\n",
    "                                if M[k][l] == 'b':\n",
    "                                    adjacent_beans += 1\n",
    "                            l += 1\n",
    "                    l = j-1\n",
    "                    k += 1\n",
    "                total_yield += 10 + adjacent_beans\n",
    "            \n",
    "            # Case 2 : if there is a bean crop in the i,j cell of the field\n",
    "            if M[i][j] == 'b':\n",
    "                # Following code checks the number of corn crops adjacent to the bean crop \n",
    "                adjacent_corns = 0\n",
    "                k = i-1\n",
    "                l = j-1\n",
    "                while k <= i+1:\n",
    "                    if k >= 0 and k < len(M[0]):\n",
    "                        while l <= j+1:\n",
    "                            if l >= 0 and l < len(M[0]):\n",
    "                                if M[k][l] == 'c':\n",
    "                                    adjacent_corns += 1\n",
    "                            l += 1\n",
    "                    l = j-1\n",
    "                    k += 1\n",
    "                if adjacent_corns > 0:\n",
    "                    total_yield += 15\n",
    "                else:\n",
    "                    total_yield += 10\n",
    "            #print (i,j,M[i][j],total_yield)\n",
    "    return total_yield"
   ]
  },
  {
   "cell_type": "code",
   "execution_count": 3,
   "metadata": {},
   "outputs": [
    {
     "name": "stdout",
     "output_type": "stream",
     "text": [
      "Total yield of the field is  69\n"
     ]
    }
   ],
   "source": [
    "M=[['-','b','b'],\n",
    "  ['-','c','b'],\n",
    "  ['-','c','-']]\n",
    "print(\"Total yield of the field is \",calculate_total_yield(M)) "
   ]
  },
  {
   "cell_type": "code",
   "execution_count": null,
   "metadata": {},
   "outputs": [],
   "source": []
  }
 ],
 "metadata": {
  "kernelspec": {
   "display_name": "Python 3",
   "language": "python",
   "name": "python3"
  },
  "language_info": {
   "codemirror_mode": {
    "name": "ipython",
    "version": 3
   },
   "file_extension": ".py",
   "mimetype": "text/x-python",
   "name": "python",
   "nbconvert_exporter": "python",
   "pygments_lexer": "ipython3",
   "version": "3.6.5"
  }
 },
 "nbformat": 4,
 "nbformat_minor": 2
}
